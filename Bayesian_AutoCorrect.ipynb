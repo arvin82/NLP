{
 "cells": [
  {
   "cell_type": "markdown",
   "id": "22f3e0d0",
   "metadata": {},
   "source": [
    "# Simple Auto Correction\n",
    "\n",
    "In this notebook a simple auto-correction is implemented.\n",
    "This version 0 does not care about the context or meaning of the words. \n",
    "The principle is very simple: First we find all the words that are 1 or 2 edits away from the wrongly spelled word. Then, based on their probability we sort them and give n toppest options.\n",
    "The probability for each word is the number of times in occurs in our reference corpus that we read from a file.\n",
    "\n",
    "Although very simple, it is worth to get this version first before looking into more advanced attention model based auto-correction that the probability of the words is calculated based on the context."
   ]
  },
  {
   "cell_type": "code",
   "execution_count": 1,
   "id": "a21ddf78",
   "metadata": {},
   "outputs": [],
   "source": [
    "import re\n",
    "from collections import Counter\n",
    "import numpy as np\n",
    "import pandas as pd\n"
   ]
  },
  {
   "cell_type": "markdown",
   "id": "2b0106f7",
   "metadata": {},
   "source": [
    "The corpus is read from a file"
   ]
  },
  {
   "cell_type": "code",
   "execution_count": 2,
   "id": "bd251c47",
   "metadata": {},
   "outputs": [],
   "source": [
    "def process_data(file_name):\n",
    "    words = [] \n",
    "    \n",
    "    f = open(file_name, 'r')\n",
    "    \n",
    "    text = f.read()\n",
    "    \n",
    "    text = text.lower()\n",
    "    \n",
    "    words = re.findall(r'\\w+', text)\n",
    "    \n",
    "    return words"
   ]
  },
  {
   "cell_type": "code",
   "execution_count": 3,
   "id": "de3bac81",
   "metadata": {},
   "outputs": [],
   "source": [
    "word_l = process_data('./data/shakespeare.txt')\n",
    "vocab = set(word_l) "
   ]
  },
  {
   "cell_type": "markdown",
   "id": "2affd6f2",
   "metadata": {},
   "source": [
    "A dictionary is created that stores the number of times each unique word has appeared in the corpus. Also the created set of unique words will be used as our vocabulary, and we can check the existance of the word in it later."
   ]
  },
  {
   "cell_type": "code",
   "execution_count": 4,
   "id": "465be900",
   "metadata": {},
   "outputs": [],
   "source": [
    "def get_count(word_l):\n",
    "    \n",
    "    word_count_dict = {}  \n",
    "    vocab_ = set(word_l)\n",
    "    for word in word_l:\n",
    "        word_count_dict[word] = word_count_dict.get(word, 0) + 1\n",
    "            \n",
    "    return word_count_dict"
   ]
  },
  {
   "cell_type": "code",
   "execution_count": 5,
   "id": "4340e4e4",
   "metadata": {},
   "outputs": [],
   "source": [
    "word_count_dict = get_count(word_l)"
   ]
  },
  {
   "cell_type": "markdown",
   "id": "39c19492",
   "metadata": {},
   "source": [
    "From the previous dictionary another dictionary is created that stores the probabilty of each word. The probability is simpley the number of the times it has shown up the corpus, divided by the number of the words in the corpus."
   ]
  },
  {
   "cell_type": "code",
   "execution_count": 6,
   "id": "def6bce8",
   "metadata": {},
   "outputs": [],
   "source": [
    "def get_probs(word_count_dict):\n",
    "    probs = {}  \n",
    "    \n",
    "    M = 0\n",
    "    for word in word_count_dict:\n",
    "        M += word_count_dict[word]\n",
    "    \n",
    "    for word in word_count_dict:\n",
    "        probs[word] = word_count_dict[word] / M\n",
    "    \n",
    "    return probs"
   ]
  },
  {
   "cell_type": "code",
   "execution_count": 7,
   "id": "cff73de4",
   "metadata": {},
   "outputs": [],
   "source": [
    "probs = get_probs(word_count_dict)"
   ]
  },
  {
   "cell_type": "markdown",
   "id": "c1149ce1",
   "metadata": {},
   "source": [
    "There are four possible edit options: Delete a character, Switch two adjacent characters, Replace a character with a different one, and Inserting a character. All these edits can occur at different locations for the word.\n",
    "\n",
    "Here, for each of these edits a function is defined that returns a list for the edit at different locations along the word's length. \n",
    "\n",
    "Later on, another function would be define to call all of these for a given word, and combine the result of all the edits for it."
   ]
  },
  {
   "cell_type": "code",
   "execution_count": 8,
   "id": "c8d05227",
   "metadata": {},
   "outputs": [],
   "source": [
    "def delete_letter(word):\n",
    "    \n",
    "    delete_l = []\n",
    "    split_l = []\n",
    "    \n",
    "    for i in range(len(word)):\n",
    "        delete_l.append(word[:i] + word[i+1:])\n",
    "    \n",
    "    return  delete_l"
   ]
  },
  {
   "cell_type": "code",
   "execution_count": 9,
   "id": "15d703e8",
   "metadata": {},
   "outputs": [],
   "source": [
    "def switch_letter(word):\n",
    "    \n",
    "    switch_l = []\n",
    "    split_l = []\n",
    "    \n",
    "    n = len(word)\n",
    "    for i in range(n):\n",
    "        a = word[:i] if i >= 0 else \"\"\n",
    "        b = word[i] \n",
    "        c = word[i+1] if i + 1 < n else \"\"\n",
    "        d = word[i+2:] if i + 2 < n else \"\"\n",
    "        if len(c) > 0:\n",
    "            switch_l.append(a + c + b + d)\n",
    "    \n",
    "    return switch_l"
   ]
  },
  {
   "cell_type": "code",
   "execution_count": 10,
   "id": "fd156971",
   "metadata": {},
   "outputs": [],
   "source": [
    "def replace_letter(word, verbose=False):\n",
    "    \n",
    "    replace_l = []\n",
    "    \n",
    "    n = len(word)\n",
    "    for i in range(n):\n",
    "        a = word[:i]\n",
    "        b = word[i]\n",
    "        c = word[i+1:] if i + 1 < n else \"\"\n",
    "        for j in range(26):\n",
    "            rep = chr(j + ord('a'))\n",
    "            if rep != word[i]:\n",
    "                replace_l.append(a + (rep) + c)\n",
    "    \n",
    "    replace_set = set(replace_l)\n",
    "    replace_l = sorted(list(replace_set))\n",
    "    \n",
    "    return replace_l"
   ]
  },
  {
   "cell_type": "code",
   "execution_count": 11,
   "id": "8b96438f",
   "metadata": {},
   "outputs": [],
   "source": [
    "def insert_letter(word):\n",
    "    \n",
    "    insert_l = []\n",
    "    split_l = []\n",
    "    \n",
    "    for i in range(len(word) + 1):\n",
    "        split_l.append((word[:i], word[i:]))\n",
    "    \n",
    "    for a, b in split_l:\n",
    "        for i in range(26):\n",
    "            insert_l.append(a + chr(i + ord('a')) + b)\n",
    "    \n",
    "    return insert_l"
   ]
  },
  {
   "cell_type": "markdown",
   "id": "dcda843a",
   "metadata": {},
   "source": [
    "This function applies all the edits (Delete, Switch, Replace, and Insert) and creates a list of possible options for 1 single edit to the word."
   ]
  },
  {
   "cell_type": "code",
   "execution_count": 12,
   "id": "9bcf26bf",
   "metadata": {},
   "outputs": [],
   "source": [
    "def edit_one_letter(word, allow_switches = True):\n",
    " \n",
    "    edit_one_set = set()\n",
    "    \n",
    "    edit_one_set.update(delete_letter(word))\n",
    "    if allow_switches == True:\n",
    "        edit_one_set.update(switch_letter(word))\n",
    "    edit_one_set.update(replace_letter(word))\n",
    "    edit_one_set.update(insert_letter(word))\n",
    "    \n",
    "    return set(edit_one_set)"
   ]
  },
  {
   "cell_type": "markdown",
   "id": "cbba585b",
   "metadata": {},
   "source": [
    "We also need to look into two edits. For this, first we create the list of one edit options, and for each of them we can apply again the one edit. \n",
    "\n",
    "Some of the previous edits may be cancelled and may get options that are zero or one edit away instead but we can check for them later."
   ]
  },
  {
   "cell_type": "code",
   "execution_count": 13,
   "id": "3cde6815",
   "metadata": {},
   "outputs": [],
   "source": [
    "def edit_two_letters(word, allow_switches = True):\n",
    "    \n",
    "    edit_two_set = set()\n",
    "    \n",
    "    edit_one_set = edit_one_letter(word, allow_switches)\n",
    "    for edit in edit_one_set:\n",
    "        edit_two_set.update(edit_one_letter(edit, allow_switches))\n",
    "        \n",
    "    return set(edit_two_set)"
   ]
  },
  {
   "cell_type": "markdown",
   "id": "e88ffb77",
   "metadata": {},
   "source": [
    "Now that we have all the one edit and two edit options, we can get the correction for any word.\n",
    "\n",
    "The principle is as follows:\n",
    "- if the word is already in the vocab, no correction is needed and we only return that word.\n",
    "- if the word has one edit options in the vocabulary, we sort them based on their probability, and return the desired top n words.\n",
    "- if the word has two edit options in the vocabulary, we sort them based on their probability, and return the desired top n words.\n",
    "- if the word has no one edit or two edit options in the vocabulary, we return the word itself"
   ]
  },
  {
   "cell_type": "code",
   "execution_count": 14,
   "id": "c7a5b03f",
   "metadata": {},
   "outputs": [],
   "source": [
    "def get_corrections(word, probs, vocab, n=2):\n",
    "    \n",
    "    suggestions = []\n",
    "    n_best = []\n",
    "    \n",
    "    suggestions = []\n",
    "    if word in vocab:\n",
    "        suggestions.append(word)\n",
    "    else:\n",
    "        for edit_one in edit_one_letter(word, allow_switches = True):\n",
    "            if edit_one in vocab:\n",
    "                suggestions.append(edit_one)\n",
    "    if len(suggestions) == 0:\n",
    "        for edit_two in edit_two_letters(word, allow_switches = True):\n",
    "            if edit_two in vocab:\n",
    "                suggestions.append(edit_two)\n",
    "    if len(suggestions) == 0:\n",
    "        suggestions.append(word)\n",
    "\n",
    "    suggestion_prob = []\n",
    "    for suggestion in suggestions:\n",
    "        suggestion_prob.append([suggestion, probs.get(suggestion, 0)])\n",
    "    \n",
    "    suggestion_prob = sorted(suggestion_prob, key = lambda x : -x[1])\n",
    "    \n",
    "    n_best = [suggestion_prob[i] for i in range(min(n, len(suggestion_prob)))]\n",
    "    \n",
    "    return n_best"
   ]
  },
  {
   "cell_type": "markdown",
   "id": "53fb84d8",
   "metadata": {},
   "source": [
    "# Test and Example of the simple auto-correct\n",
    "\n",
    "Please change the wrong_word in the cell below and check what corrected options we get:"
   ]
  },
  {
   "cell_type": "code",
   "execution_count": 18,
   "id": "d174ac66",
   "metadata": {},
   "outputs": [
    {
     "name": "stdout",
     "output_type": "stream",
     "text": [
      "For word thrgh, the corrected options are:\n",
      "option 1 is though with probability of 0.0011377625247136942\n",
      "option 2 is high with probability of 0.0003730368933487522\n",
      "option 3 is three with probability of 0.00031708135934643936\n",
      "option 4 is through with probability of 0.00024247398067668894\n"
     ]
    }
   ],
   "source": [
    "wrong_word = \"thrgh\"\n",
    "options = get_corrections(wrong_word, probs, vocab, n=4)\n",
    "\n",
    "print(\"For word \" + wrong_word + \", the corrected options are:\")\n",
    "for i, option in enumerate(options):\n",
    "    print(\"option {} is {} with probability of {}\".format(i + 1, option[0], option[1]))\n"
   ]
  },
  {
   "cell_type": "markdown",
   "id": "a81811d6",
   "metadata": {},
   "source": [
    "# Getting the minimum edit distance between two words\n",
    "\n",
    "Given two words of target and source, we can find minimum edit distance between them using bottom-up dynamic programming."
   ]
  },
  {
   "cell_type": "code",
   "execution_count": 19,
   "id": "afa78923",
   "metadata": {},
   "outputs": [],
   "source": [
    "def min_edit_distance(source, target, ins_cost = 1, del_cost = 1, rep_cost = 2):\n",
    "    \n",
    "    m = len(source) \n",
    "    n = len(target) \n",
    "    D = np.zeros((m+1, n+1), dtype=int) \n",
    "    \n",
    "    for row in range(1, m + 1): \n",
    "        D[row,0] = row * ins_cost\n",
    "        \n",
    "    for col in range(1, n + 1): \n",
    "        D[0,col] = col * ins_cost\n",
    "        \n",
    "    for row in range(1, m + 1):\n",
    "        \n",
    "        for col in range(1, n + 1):\n",
    "            \n",
    "            r_cost = rep_cost\n",
    "            \n",
    "            if source[row - 1] == target[col - 1]: \n",
    "                r_cost = 0\n",
    "                \n",
    "            D[row,col] = min(D[row - 1, col] + del_cost, D[row, col - 1] + ins_cost, D[row - 1, col - 1] + r_cost)\n",
    "            \n",
    "    med = D[m, n]\n",
    "    \n",
    "    return med"
   ]
  },
  {
   "cell_type": "markdown",
   "id": "b9cbd7cd",
   "metadata": {},
   "source": [
    "# Example of minimum edit distance between two words:"
   ]
  },
  {
   "cell_type": "code",
   "execution_count": 20,
   "id": "e548fdb6",
   "metadata": {},
   "outputs": [
    {
     "name": "stdout",
     "output_type": "stream",
     "text": [
      "The minimum distance between high and through is 5\n"
     ]
    }
   ],
   "source": [
    "source = \"high\"\n",
    "target = \"through\"\n",
    "\n",
    "print(\"The minimum distance between {} and {} is {}\".format(source, target, min_edit_distance(source, target, 1, 1, 2)))"
   ]
  },
  {
   "cell_type": "code",
   "execution_count": null,
   "id": "48ec2b9b",
   "metadata": {},
   "outputs": [],
   "source": []
  },
  {
   "cell_type": "code",
   "execution_count": null,
   "id": "f5812455",
   "metadata": {},
   "outputs": [],
   "source": []
  }
 ],
 "metadata": {
  "kernelspec": {
   "display_name": "Python 3 (ipykernel)",
   "language": "python",
   "name": "python3"
  },
  "language_info": {
   "codemirror_mode": {
    "name": "ipython",
    "version": 3
   },
   "file_extension": ".py",
   "mimetype": "text/x-python",
   "name": "python",
   "nbconvert_exporter": "python",
   "pygments_lexer": "ipython3",
   "version": "3.9.7"
  }
 },
 "nbformat": 4,
 "nbformat_minor": 5
}
