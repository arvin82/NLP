{
 "cells": [
  {
   "cell_type": "markdown",
   "id": "1e9aa6f4",
   "metadata": {},
   "source": [
    "# Learning word embeddings\n",
    "\n",
    "There are several techniques or algorithms to learn or compute word vectors.\n",
    "The most famous word2vec techniques are:\n",
    "- Continous Bag Of Words (CBOW)\n",
    "- Skip-gram\n",
    "- Glove\n",
    "\n",
    "There are other techniques also based on attention models.\n",
    "\n",
    "- Continous Bag Of Words (CBOW):\n",
    "\n",
    "In this technique, n words before and after a word are considered. Their one-hot vectors are averaged and input to a NN with input size of V, where V is the size of the vocabulary. There is only one hidden layer in the NN and the size of that, N, is assigned to the desired size of learnt word vectors. The output of the NN is also of size V. The output is softmaxed and is compared with one-hot vector under training. The cost function is created based on cross-entropy. The weight matrices will be of size N x V and can be used to extract the desired N size embedding vector for each of the V words in the vocabulary. This notebook illustrates this concept using fundamental NN calculations.\n",
    "\n",
    "- Skip-gram:\n",
    "\n",
    "Generally similar to CBOW. We pick two nearby words from the training text, we input the one-hot vector of one of them to the NN and try to predict of the softmaxed output is equal to the one-hot of the other one.\n",
    "There are several optimization tricks used such as sub-sampling (to account for the frequency of the words in the corpus) and negative sampling (to account for many non-positive outcomes that dont have to be update). \n",
    "[More info](https://towardsdatascience.com/word2vec-skip-gram-model-part-1-intuition-78614e4d6e0b)\n",
    "\n",
    "- Glove:\n",
    "\n",
    "Glove is based on matrix factorization techniques on the word-context matrix. First a large matrix of (words x context) co-occurrence information, i.e. for each “word” (the rows), you count how frequently we see this word in some “context” (the columns) in a large corpus.  The number of “contexts” is of course large, since it is essentially combinatorial in size.\n",
    "\n",
    "A lower-dimensional (word x features) matrix, where each row now yields a vector representation for the corresponding word is optimzed minimizing a “reconstruction loss”. This loss tries to find the lower-dimensional representations which can explain most of the variance in the high-dimensional data. [More info](https://analyticsindiamag.com/hands-on-guide-to-word-embeddings-using-glove/#:~:text=The%20basic%20idea%20behind%20the,pair%20of%20words%20occurring%20together.)\n",
    "\n"
   ]
  },
  {
   "cell_type": "markdown",
   "id": "58c79f0a",
   "metadata": {},
   "source": [
    "## Importing libraries"
   ]
  },
  {
   "cell_type": "code",
   "execution_count": 1,
   "id": "5dfd482c",
   "metadata": {},
   "outputs": [
    {
     "name": "stderr",
     "output_type": "stream",
     "text": [
      "[nltk_data] Downloading package punkt to\n",
      "[nltk_data]     C:\\Users\\HP\\AppData\\Roaming\\nltk_data...\n",
      "[nltk_data]   Package punkt is already up-to-date!\n"
     ]
    }
   ],
   "source": [
    "import nltk\n",
    "import random\n",
    "import re\n",
    "from nltk.tokenize import word_tokenize\n",
    "import numpy as np\n",
    "from collections import Counter\n",
    "\n",
    "nltk.download('punkt')\n",
    "nltk.data.path.append('.')"
   ]
  },
  {
   "cell_type": "markdown",
   "id": "4b6fd4a8",
   "metadata": {},
   "source": [
    "## Reading shakespeare corpus as training dataset\n",
    "\n",
    "Preprocess the data as usual."
   ]
  },
  {
   "cell_type": "code",
   "execution_count": 2,
   "id": "84b3e56c",
   "metadata": {},
   "outputs": [],
   "source": [
    "import re                                                           \n",
    "with open('./data/shakespeare.txt') as f:\n",
    "    data = f.read()                                                 \n",
    "data = re.sub(r'[,!?;-]', '.',data)                                 \n",
    "data = nltk.word_tokenize(data)                                     \n",
    "data = [ ch.lower() for ch in data if ch.isalpha() or ch == '.']    \n"
   ]
  },
  {
   "cell_type": "markdown",
   "id": "100e90e5",
   "metadata": {},
   "source": [
    "## Calculate the count of each word"
   ]
  },
  {
   "cell_type": "code",
   "execution_count": 3,
   "id": "b8191eb2",
   "metadata": {},
   "outputs": [
    {
     "name": "stdout",
     "output_type": "stream",
     "text": [
      "<FreqDist with 5775 samples and 60976 outcomes>\n",
      "Size of vocabulary:  5775\n",
      "Most frequent tokens:  [('.', 9630), ('the', 1521), ('and', 1394), ('i', 1257), ('to', 1159), ('of', 1093), ('my', 857), ('that', 781), ('in', 770), ('a', 752), ('you', 748), ('is', 630), ('not', 559), ('for', 467), ('it', 460), ('with', 441), ('his', 434), ('but', 417), ('me', 417), ('your', 397)]\n"
     ]
    }
   ],
   "source": [
    "fdist = nltk.FreqDist(word for word in data)\n",
    "print(fdist)\n",
    "print(\"Size of vocabulary: \",len(fdist) )\n",
    "print(\"Most frequent tokens: \",fdist.most_common(20) ) # print the 20 most frequent words and their freq."
   ]
  },
  {
   "cell_type": "markdown",
   "id": "e96b358d",
   "metadata": {},
   "source": [
    "# Create dictionaries\n",
    "\n",
    "Two dictionaries are created to store the index of each word given a word and also return the word at each index given an index"
   ]
  },
  {
   "cell_type": "code",
   "execution_count": 4,
   "id": "1bf2d8e6",
   "metadata": {},
   "outputs": [],
   "source": [
    "def get_dict(data):\n",
    "    word2Ind = {}\n",
    "    Ind2word = {}\n",
    "    counter = 0\n",
    "    fdist = nltk.FreqDist(word for word in data)\n",
    "    for w in fdist.keys():\n",
    "        word2Ind[w] = counter\n",
    "        Ind2word[counter] = w\n",
    "        counter += 1\n",
    "    return word2Ind, Ind2word\n",
    "    "
   ]
  },
  {
   "cell_type": "markdown",
   "id": "d6a82235",
   "metadata": {},
   "source": [
    "# Creating the simple NN\n",
    "\n",
    "The NN has one input layer of size V, one hidden layer of size N (the desired size of the word embeddings) and one output layer of size V\n",
    "\n",
    "Usual steps and functions needed for fundamental implementation of NNs. Also available packages like Tensorflow can be used.\n",
    "- Initialization\n",
    "- Forward propagation\n",
    "- Backward propagation\n",
    "- Batch return function\n",
    "- Gradient descent\n"
   ]
  },
  {
   "cell_type": "code",
   "execution_count": 5,
   "id": "b7a9fc9b",
   "metadata": {},
   "outputs": [],
   "source": [
    "def initialize_model(N,V):\n",
    "    W1 = np.random.rand(N, V)\n",
    "    W2 = np.random.rand(V, N)\n",
    "    b1 = np.random.rand(N, 1)\n",
    "    b2 = np.random.rand(V, 1)\n",
    "    \n",
    "    return W1, W2, b1, b2"
   ]
  },
  {
   "cell_type": "code",
   "execution_count": 6,
   "id": "8a43e97c",
   "metadata": {},
   "outputs": [],
   "source": [
    "def softmax(z):\n",
    "    yhat = np.exp(z) / np.sum(np.exp(z), axis = 0)\n",
    "    return yhat"
   ]
  },
  {
   "cell_type": "code",
   "execution_count": 7,
   "id": "be87f763",
   "metadata": {},
   "outputs": [],
   "source": [
    "def forward_prop(x, W1, W2, b1, b2):\n",
    "    h = np.matmul(W1, x) + b1\n",
    "    h = np.maximum(h, 0)\n",
    "    \n",
    "    z = np.matmul(W2, h) + b2\n",
    "    return z, h"
   ]
  },
  {
   "cell_type": "code",
   "execution_count": 8,
   "id": "c426d4e7",
   "metadata": {},
   "outputs": [],
   "source": [
    "def compute_cost(y, yhat, batch_size):\n",
    "    logprobs = np.multiply(np.log(yhat),y)\n",
    "    cost = - 1/batch_size * np.sum(logprobs)\n",
    "    cost = np.squeeze(cost)\n",
    "    \n",
    "    return cost"
   ]
  },
  {
   "cell_type": "code",
   "execution_count": 9,
   "id": "62d1762b",
   "metadata": {},
   "outputs": [],
   "source": [
    "def back_prop(x, yhat, y, h, W1, W2, b1, b2, batch_size):\n",
    "    \n",
    "    l1 = np.matmul(W2.T, yhat - y)\n",
    "    l1 = np.maximum(l1, 0) \n",
    "    \n",
    "    grad_W1 = np.dot(l1, x.T) / batch_size\n",
    "    grad_W2 = np.dot(yhat - y, h.T) / batch_size\n",
    "    \n",
    "    grad_b1 = np.sum(l1, axis = 1, keepdims = True) / batch_size\n",
    "    grad_b2 = np.sum(yhat - y, axis = 1, keepdims = True) / batch_size\n",
    "    \n",
    "    return grad_W1, grad_W2, grad_b1, grad_b2"
   ]
  },
  {
   "cell_type": "markdown",
   "id": "3c425135",
   "metadata": {},
   "source": [
    "The function below is implemented as an example. It could be optimized and available packages can also be used.\n",
    "The different hear is that, here, the calculation for x (training batch) and y (label/truth) batch are also done. The calculations use the pre-calculated dictionaries of words vs word-indices"
   ]
  },
  {
   "cell_type": "code",
   "execution_count": 10,
   "id": "db808e53",
   "metadata": {},
   "outputs": [],
   "source": [
    "def my_get_batches(data, word2Ind, V, C, batch_size = 128):\n",
    "    while True:\n",
    "        num_batches = (len(data) - C) // batch_size\n",
    "        for i in range(num_batches - 1):\n",
    "            indices = random.sample(range(C, len(data) - C), 128)\n",
    "            this_batch = []\n",
    "            x = np.zeros((V, batch_size), dtype = float)\n",
    "            y = np.zeros((V, batch_size), dtype = float)\n",
    "            for j in range(batch_size):\n",
    "                start = indices[j]\n",
    "                for k in range(1, C + 1, 1):\n",
    "                    x[word2Ind[data[start - k]]][j] += 1\n",
    "                    x[word2Ind[data[start + k]]][j] += 1\n",
    "                y[word2Ind[data[start]]][j] = 1\n",
    "            x /= (2 * C)\n",
    "            yield x, y"
   ]
  },
  {
   "cell_type": "markdown",
   "id": "a16dd8f0",
   "metadata": {},
   "source": [
    "## Model Training"
   ]
  },
  {
   "cell_type": "code",
   "execution_count": 14,
   "id": "d985ce45",
   "metadata": {},
   "outputs": [],
   "source": [
    "def gradient_descent(data, word2Ind, N, V, num_iters, alpha=0.03, \n",
    "                     random_seed=282, initialize_model=initialize_model, \n",
    "                     get_batches=my_get_batches, forward_prop=forward_prop, \n",
    "                     softmax=softmax, compute_cost=compute_cost, \n",
    "                     back_prop=back_prop):\n",
    "    \n",
    "    W1, W2, b1, b2 = initialize_model(N,V)\n",
    "\n",
    "    batch_size = 128\n",
    "    iters = 0\n",
    "    C = 2 \n",
    "    \n",
    "    for x, y in my_get_batches(data, word2Ind, V, C, batch_size):\n",
    "        \n",
    "        z, h = forward_prop(x, W1, W2, b1, b2)\n",
    "        yhat = softmax(z)\n",
    "        \n",
    "        cost = compute_cost(y, yhat, batch_size)\n",
    "        if ( (iters+1) % 10 == 0):\n",
    "            print(f\"iters: {iters + 1} completed\")\n",
    "            \n",
    "        grad_W1, grad_W2, grad_b1, grad_b2 = back_prop(x, yhat, y, h, W1, W2, b1, b2, batch_size)\n",
    "        \n",
    "        W1 = W1 - alpha * grad_W1\n",
    "        W2 = W2 - alpha * grad_W2\n",
    "        b1 = b1 - alpha * grad_b1\n",
    "        b2 = b2 - alpha * grad_b2\n",
    "\n",
    "        iters +=1 \n",
    "        if iters == num_iters: \n",
    "            break\n",
    "        if iters % 100 == 0:\n",
    "            alpha *= 0.66\n",
    "            \n",
    "    return W1, W2, b1, b2"
   ]
  },
  {
   "cell_type": "code",
   "execution_count": 15,
   "id": "0711837f",
   "metadata": {},
   "outputs": [
    {
     "name": "stdout",
     "output_type": "stream",
     "text": [
      "Call gradient_descent\n",
      "iters: 10 completed\n",
      "iters: 20 completed\n",
      "iters: 30 completed\n",
      "iters: 40 completed\n",
      "iters: 50 completed\n",
      "iters: 60 completed\n",
      "iters: 70 completed\n",
      "iters: 80 completed\n",
      "iters: 90 completed\n",
      "iters: 100 completed\n",
      "iters: 110 completed\n",
      "iters: 120 completed\n",
      "iters: 130 completed\n",
      "iters: 140 completed\n",
      "iters: 150 completed\n"
     ]
    }
   ],
   "source": [
    "C = 2\n",
    "N = 50\n",
    "word2Ind, Ind2word = get_dict(data)\n",
    "V = len(word2Ind)\n",
    "num_iters = 150\n",
    "print(\"Call gradient_descent\")\n",
    "W1, W2, b1, b2 = gradient_descent(data, word2Ind, N, V, num_iters)"
   ]
  },
  {
   "cell_type": "markdown",
   "id": "97b62687",
   "metadata": {},
   "source": [
    "## Testing the model"
   ]
  },
  {
   "cell_type": "markdown",
   "id": "c9049dd1",
   "metadata": {},
   "source": [
    "An array of words is created and their embedding is printed"
   ]
  },
  {
   "cell_type": "code",
   "execution_count": 16,
   "id": "f4f3fc00",
   "metadata": {},
   "outputs": [
    {
     "name": "stdout",
     "output_type": "stream",
     "text": [
      "Embedding of |king| is [0.19991177 0.78386321 0.65540417 0.50056632 0.68348011 0.61871161\n",
      " 0.33244765 0.36249699 0.47070768 0.55106763 0.21355413 0.43279105\n",
      " 0.45811958 0.19142544 0.16966585 0.1682538  0.689281   0.94125917\n",
      " 0.08626993 0.452611   0.38224913 0.77522007 0.23241242 0.19160534\n",
      " 0.53893683 0.53779821 0.86170196 0.37058287 0.48734814 0.20682348\n",
      " 0.74344852 0.7572905  0.31464416 0.95587407 0.40880683 0.61454012\n",
      " 0.23453226 0.29575051 0.8296693  0.80254727 0.46157702 0.44038062\n",
      " 0.71736285 0.41910073 0.70223745 0.2183107  0.53795768 0.3609458\n",
      " 0.85127576 0.7555842 ]: \n",
      "Embedding of |queen| is [0.39536953 0.78341041 0.30443121 0.02215249 0.54722169 0.19491201\n",
      " 0.91580118 0.46199161 0.42572371 0.35477202 0.21248158 0.59196456\n",
      " 0.51935354 0.03971138 0.63322017 0.40661889 0.59830069 0.41463781\n",
      " 0.556516   0.46224308 0.39296425 0.67493232 0.26148645 0.05587954\n",
      " 0.61918102 0.44264325 0.40712918 0.68841236 0.58539649 0.37318218\n",
      " 0.07064848 0.37751788 0.85233319 0.44384501 0.05667696 0.68591616\n",
      " 0.52896514 0.30019438 0.04959066 0.66716214 0.3577843  0.57867074\n",
      " 0.45577652 0.42958054 0.57709833 0.60413536 0.3312993  0.67861378\n",
      " 0.72994077 0.02531798]: \n",
      "Embedding of |lord| is [0.65429973 0.56664013 0.71631828 0.56165246 0.69368604 0.68461885\n",
      " 0.59508447 0.58029719 0.13400918 0.56378712 0.48753907 0.26356842\n",
      " 0.5723661  0.56739243 0.61382109 0.23452826 0.45827427 0.38210229\n",
      " 0.55095965 0.62090281 0.27563061 0.5473705  0.42103479 0.38544693\n",
      " 0.46340972 0.56032027 0.14279489 0.46593414 0.53756853 0.27827416\n",
      " 0.14210802 0.16570707 0.25034559 0.34302122 0.44845455 0.76525069\n",
      " 0.19464651 0.54536853 0.39485667 0.22670128 0.39379628 0.41262166\n",
      " 0.32881657 0.45868295 0.59478984 0.06813566 0.67994935 0.42241955\n",
      " 0.62532988 0.11566481]: \n"
     ]
    }
   ],
   "source": [
    "from matplotlib import pyplot\n",
    "\n",
    "words = ['king', 'queen','lord','man', 'woman','dog','wolf',\n",
    "         'rich','happy','sad', 'young']\n",
    "\n",
    "embs = (W1.T + W2)/2.0\n",
    " \n",
    "idx = [word2Ind[word] for word in words]\n",
    "X = embs[idx, :]\n",
    "\n",
    "for word in words[:3]:\n",
    "    index = word2Ind[word]\n",
    "    print(\"Embedding of |{}| is {}: \".format(word, embs[index,:]))"
   ]
  },
  {
   "cell_type": "markdown",
   "id": "3ea91b14",
   "metadata": {},
   "source": [
    "## Visualizing the word embeddings\n",
    "\n",
    "This is simple model and not optimal. But we can still use unsupervised learning techniques to visualize the dimensionally reduced word vectors.\n",
    "\n",
    "We can implement this using PCA."
   ]
  },
  {
   "cell_type": "code",
   "execution_count": 17,
   "id": "4adc8bff",
   "metadata": {},
   "outputs": [
    {
     "data": {
      "image/png": "[encoded data removed]",
      "text/plain": [
       "<Figure size 432x288 with 1 Axes>"
      ]
     },
     "metadata": {
      "needs_background": "light"
     },
     "output_type": "display_data"
    }
   ],
   "source": [
    "from sklearn.decomposition import PCA\n",
    "pca = PCA(2)\n",
    "pca.fit(X)\n",
    "result=  pca.transform(X)\n",
    "pyplot.scatter(result[:, 0], result[:, 1])\n",
    "for i, word in enumerate(words):\n",
    "    pyplot.annotate(word, xy=(result[i, 0], result[i, 1]))\n",
    "pyplot.show()"
   ]
  },
  {
   "cell_type": "markdown",
   "id": "708e4da7",
   "metadata": {},
   "source": [
    "## Probably King is Rich and every man is young! (In shakespeare work at least)"
   ]
  },
  {
   "cell_type": "code",
   "execution_count": null,
   "id": "8c798755",
   "metadata": {},
   "outputs": [],
   "source": []
  }
 ],
 "metadata": {
  "kernelspec": {
   "display_name": "Python 3 (ipykernel)",
   "language": "python",
   "name": "python3"
  },
  "language_info": {
   "codemirror_mode": {
    "name": "ipython",
    "version": 3
   },
   "file_extension": ".py",
   "mimetype": "text/x-python",
   "name": "python",
   "nbconvert_exporter": "python",
   "pygments_lexer": "ipython3",
   "version": "3.9.7"
  }
 },
 "nbformat": 4,
 "nbformat_minor": 5
}
